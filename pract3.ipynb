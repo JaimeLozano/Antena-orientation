{
 "cells": [
  {
   "cell_type": "markdown",
   "metadata": {},
   "source": [
    "# Introducción a la práctica\n",
    "(vid. 103215)\n",
    "La práctica consiste en la orientación de antenas a diferentes emisores. Para ello nos hemos desplazado a la terraza del edificio y haciendo uso del siguiente material y los cálculos previos, hemos obtenido la orientación correcta en cada caso.\n",
    "\n",
    "La practica se divide en cuatro partes. En primer lugar se realiza el cálculo para obtener los datos geométricos del reflector offset. En segundo lugar se orienta la antena a un satélite. En tercer lugar se emplea una antena Yagi a una estación terrestre de TV y se observan los diferentes múltiplex de los canales. Finalmente se emplea esta misma antena para sintonizar emisoras de radio FM.\n",
    "\n",
    "### Materiales\n",
    "- Antena parabólica con LNB simple.\n",
    "- Antena Yagi\n",
    "- Cable coaxial y conectores F\n",
    "- Medidor de campo EP207plus\n",
    "- Medidor de potencia Digisat Pro\n",
    "- Brújula\n",
    "\n",
    "### Parte 1: obtención de los datos geométricos de la antena\n",
    "(vid. 103326)"
   ]
  },
  {
   "cell_type": "code",
   "execution_count": 2,
   "metadata": {},
   "outputs": [
    {
     "name": "stdout",
     "output_type": "stream",
     "text": [
      "Ángulo de offset:  26.38432974940796\n",
      "Lóbulo Principal hasta el valor -10 dB:  89.06022891214123\n",
      "Inclinación del lnbf respecto a la horizontal:  45.015501752315046\n",
      "F/D equivalente:  0.674510646101383\n",
      "Lóbulo de apertura:  2.0348837209302326\n"
     ]
    }
   ],
   "source": [
    "import numpy as np\n",
    "\n",
    "# Medidas experimentales de la antena\n",
    "ancho = 86                                       # Ancho de la antena [cm]\n",
    "alto = 96                                        # Alto de la antena [cm]\n",
    "profundidad = 9.5                                # Profundidad de la antena [cm]\n",
    "\n",
    "# Cálculos realizados\n",
    "distF = ancho**3/(16 * profundidad * alto)                  # Distancia focal [cm]\n",
    "a = 2 * distF * (((alto / 2) / (ancho / 2))**2 - 1)**0.5    # Distancia a [cm]\n",
    "d1 = (((a + (ancho / 2))**2) / (4 * distF)) + distF         # Distancia d1 [cm]\n",
    "d2 = ((((a - (ancho / 2))**2)) / (4 * distF)) + distF       # Distancia d2 [cm]\n",
    "angulo_offset = np.arccos(ancho / alto)                     # Ángulo de offset [rad]\n",
    "print(\"Ángulo de offset: \", angulo_offset*180/np.pi)\n",
    "\n",
    "LP= (np.arccos(( 2 * distF / d1) - 1)) - (np.arccos((2 * distF / d2) - 1))      # Lóbulo Principal hasta el valor -10 dB [rad]\n",
    "print(\"Lóbulo Principal hasta el valor -10 dB: \", LP*180/np.pi)\n",
    "IL= 0.5 * (np.arccos((2 * distF / d1) - 1)) + (np.arccos((2 * distF / d2) - 1)) # Inclinación del lnbf respecto a la horizontal [rad]\n",
    "print(\"Inclinación del lnbf respecto a la horizontal: \", IL*180/np.pi)\n",
    "FD= 1 / (4 * np.arctan(0.5 * LP/2))                                             # F/D equivalente\n",
    "print(\"F/D equivalente: \", FD)\n",
    "LAp= 175/ancho                                                                  # Lóbulo de apertura [grados]\n",
    "print(\"Lóbulo de apertura: \", LAp)"
   ]
  },
  {
   "cell_type": "markdown",
   "metadata": {},
   "source": [
    "![caption](Images/largo.jpg)\n",
    "![caption](Images/alto.jpg)"
   ]
  },
  {
   "cell_type": "markdown",
   "metadata": {},
   "source": [
    "\n",
    "### Parte 2: orientación a un satélite\n",
    "(vid. 105059)\n",
    "(vid. 105712)\n",
    "(vid. 114401)\n",
    "(vid. 114457)\n",
    "Hemos elegido un satélite de Astra para Europa que se encuentra en la posición 19,2E. En esta posición se encuentra el satélite Astra 1KR. A partir de su guía de instalación[1], obtenemos los siguientes parámetros para Granada:\n",
    "- Ángulo de elevación: 41º\n",
    "- Ángulo acimutal: 145º\n",
    "- Polarización: 30º\n",
    "\n",
    "Antes de orientar el acimut empleando la brújula debemos tener en cuenta la declinación magnética, que para Granada es de 3,5º por lo que el acimut quedaría en 148,5º.\n",
    "\n",
    "![caption](Images/astra_lonlat.png)\n",
    "![caption](Images/astra_hv.png)\n",
    "\n",
    "A continuación, se presentan los cálculos realizados como demostración a estos datos. La posición orbital del satélite, $\\theta_{s}$, es 19,2E y, dado que es un satélite geoestacionario, la distancia al mismo es de 35.786 km. La posición de Granada, $\\theta_{l}$, es 37,18N, 3,6O.\n",
    "#### Cálculo del acimut:\n",
    "$$Azimut_{norte} = 180 + tan^{-1} \\displaystyle \\Bigg[\\frac{tan(|\\theta_{l} - \\theta_{s}|)}{sin(\\phi_{l})} \\Bigg]$$\n",
    "\n",
    "$$Azimut_{norte} = 180 + tan^{-1} \\displaystyle \\Bigg[\\frac{tan(|-3,6 - 19,2|)}{sin(37,18)} \\Bigg] = 145,1º$$\n",
    "\n",
    "$$Azimut_{real} = Azimut_{norte} + \\delta = 145,1º + 3,5º = 148,6º$$\n",
    "\n",
    "#### Cálculo de la elevación:\n",
    "$$Elevación_{FC} = tan^{-1} \\displaystyle \\Bigg[\\frac{cos(\\beta) - 0,1512}{sin(\\beta)} \\Bigg]$$\n",
    "\n",
    "$$\\beta = cos^{-1}[cos(\\theta_{l} - \\theta_{s})cos(\\phi_{l}]$$\n",
    "\n",
    "$$\\beta = cos^{-1}[cos(-3,6 - 19,2)cos(37,18)] = 42,7º$$\n",
    "\n",
    "$$Elevación_{FC} = tan^{-1} \\displaystyle \\Bigg[\\frac{cos(42,7) - 0,1512}{sin(42,7)} \\Bigg] = 40,6º$$\n",
    "\n",
    "Dado que la parábolica no tiene el foco en el centro, es necesario realizar una corrección:\n",
    "\n",
    "$$Elevación_{OFF} = Elevación_{FC} + 26,6º = 40,6 + 26,6 = 67,2º$$\n",
    "\n",
    "Sin embargo, dado que la graduación de la pieza de ajuste de la antena ya incluye esta correción, basta con ajustar la elevación a 40,6º\n",
    "\n",
    "![caption](Images/ajustando.jpg)\n",
    "\n",
    "![caption](Images/final.jpg)\n",
    "\n",
    "\n",
    "[1] https://es.astra.ses/sites/default/files/2018-09/Astra-guia%20de-instalacion-parbolica.pdf"
   ]
  },
  {
   "cell_type": "markdown",
   "metadata": {},
   "source": [
    "### Parte 3: orientación a una estación terrestre de TV\n",
    "(vid. 125831) La estación de transmisión de televisión digital terrestre (TDT) en Granada se encuentra en la sierra de Parapanda, situado al Noroeste de Granada, y por tanto, también de nuestra ubicación en la realización de esta práctica.\n",
    "\n",
    "Se ha utilizado la antena Yagi disponible en la azotea, a la que hemos conectado el medidor de campo al igual que hicimos en la Parte 2. Hemos orientado la antena de modo que mirase hacia la sierra de Parapanda, ajustando los ángulos de azimut y de elevación, y comprobando también el nivel de dbuV de señal que recibíamos en el receptor.\n",
    "\n",
    "![caption](Images/yagi.jpg)\n",
    "\n",
    "En el medidor de campo hemos podido observar grandes picos de señal en las frecuencias correspondientes a los diferentes múltiplex TDT. Estos múltiplex contienen la información correspondiente a los diferentes canales de televisión, y se transmiten en la banda de frecuencias de 482 a 682 MHz en Granada [2]. \n",
    "\n",
    "\n",
    "[2] https://www.tdt1.com/canales-granada/"
   ]
  },
  {
   "cell_type": "markdown",
   "metadata": {},
   "source": [
    "### Parte 4: orientación a una estación de radio\n",
    "(vid. 130721)\n",
    "Para la radio hemos empleado la misma orientación que la emisora de TV. El resultado se muestra en el video."
   ]
  }
 ],
 "metadata": {
  "kernelspec": {
   "display_name": "Python 3",
   "language": "python",
   "name": "python3"
  },
  "language_info": {
   "codemirror_mode": {
    "name": "ipython",
    "version": 3
   },
   "file_extension": ".py",
   "mimetype": "text/x-python",
   "name": "python",
   "nbconvert_exporter": "python",
   "pygments_lexer": "ipython3",
   "version": "3.8.3"
  }
 },
 "nbformat": 4,
 "nbformat_minor": 4
}
